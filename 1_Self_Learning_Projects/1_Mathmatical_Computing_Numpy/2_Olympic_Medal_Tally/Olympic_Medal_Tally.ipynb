{
 "cells": [
  {
   "cell_type": "markdown",
   "metadata": {},
   "source": [
    "# Assignment 02: Evaluate the Summer Olympics, London 2012 dataset"
   ]
  },
  {
   "cell_type": "markdown",
   "metadata": {},
   "source": [
    "#### 1: View and add the dataset"
   ]
  },
  {
   "cell_type": "code",
   "execution_count": 1,
   "metadata": {},
   "outputs": [],
   "source": [
    "# Import the necessary library\n",
    "\n",
    "import numpy as np"
   ]
  },
  {
   "cell_type": "code",
   "execution_count": 2,
   "metadata": {},
   "outputs": [],
   "source": [
    "# Manually add the Summer Olympics, London 2012 dataset as arrays\n",
    "\n",
    "np_olympic_country = np.array(['GBR','CHN','RUS','US','KOR','JPN','GER'])\n",
    "np_olympic_country_Gold = np.array([29,38,24,46,13,7,11])\n",
    "np_olympic_country_Silver = np.array([17,28,25,28,8,14,11])\n",
    "np_olympic_country_Bronze = np.array([19,22,32,29,7,17,14])"
   ]
  },
  {
   "cell_type": "markdown",
   "metadata": {},
   "source": [
    "#### Find the country with maximum gold medals"
   ]
  },
  {
   "cell_type": "code",
   "execution_count": 3,
   "metadata": {},
   "outputs": [],
   "source": [
    "# Use the argmax() method to find the highest number of gold medals\n",
    "\n",
    "max_gold_index = np_olympic_country_Gold.argmax()\n",
    "country_with_max_gold = np_olympic_country[max_gold_index]"
   ]
  },
  {
   "cell_type": "code",
   "execution_count": 4,
   "metadata": {},
   "outputs": [
    {
     "name": "stdout",
     "output_type": "stream",
     "text": [
      "US\n"
     ]
    }
   ],
   "source": [
    "# Print the name of the country\n",
    "\n",
    "print(country_with_max_gold)"
   ]
  },
  {
   "cell_type": "markdown",
   "metadata": {},
   "source": [
    "#### Find the countries with more than 20 gold medals"
   ]
  },
  {
   "cell_type": "code",
   "execution_count": 5,
   "metadata": {},
   "outputs": [
    {
     "name": "stdout",
     "output_type": "stream",
     "text": [
      "['GBR' 'CHN' 'RUS' 'US']\n"
     ]
    }
   ],
   "source": [
    "# Use Boolean indexing technique to find the required output\n",
    "\n",
    "print(np_olympic_country[np_oly​np_olympic_country_Goldmpic_country_Gold>20])"
   ]
  },
  {
   "cell_type": "markdown",
   "metadata": {},
   "source": [
    "#### Evaluate the dataset and print the name of each country with its gold medals and total number of medals"
   ]
  },
  {
   "cell_type": "code",
   "execution_count": 8,
   "metadata": {},
   "outputs": [
    {
     "name": "stdout",
     "output_type": "stream",
     "text": [
      "GBR, gold medal 29, Total medals [65 74 60 82 49 43 47]\n",
      "CHN, gold medal 38, Total medals [79 88 74 96 63 57 61]\n",
      "RUS, gold medal 24, Total medals [ 86  95  81 103  70  64  68]\n",
      "US, gold medal 46, Total medals [ 86  95  81 103  70  64  68]\n",
      "KOR, gold medal 13, Total medals [44 53 39 61 28 22 26]\n",
      "JPN, gold medal 7, Total medals [60 69 55 77 44 38 42]\n",
      "GER, gold medal 11, Total medals [54 63 49 71 38 32 36]\n"
     ]
    }
   ],
   "source": [
    "# Use a for loop to create the required output\n",
    "# print each country name with number of gold medals\n",
    "# print each country name with total number of medals\n",
    "\n",
    "for i in range(len(np_olympic_country)):\n",
    "    gold_medal = np_olympic_country_Gold[i]\n",
    "    country = np_olympic_country[i]\n",
    "    total_medal = np_olympic_country_Bronze[i]+np_olympic_country_Gold+np_olympic_country_Silver[i]\n",
    "    print('{}, gold medal {}, Total medals {}'. format(country,gold_medal,total_medal))"
   ]
  }
 ],
 "metadata": {
  "kernelspec": {
   "display_name": "Python 3",
   "language": "python",
   "name": "python3"
  },
  "language_info": {
   "codemirror_mode": {
    "name": "ipython",
    "version": 3
   },
   "file_extension": ".py",
   "mimetype": "text/x-python",
   "name": "python",
   "nbconvert_exporter": "python",
   "pygments_lexer": "ipython3",
   "version": "3.7.3"
  }
 },
 "nbformat": 4,
 "nbformat_minor": 1
}
