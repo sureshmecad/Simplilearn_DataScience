{
 "cells": [
  {
   "cell_type": "markdown",
   "metadata": {},
   "source": [
    "<h1 style=\"color:green\" align=\"center\"> IBM Employee Attrition Prediction </h1>"
   ]
  },
  {
   "cell_type": "markdown",
   "metadata": {},
   "source": [
    "------------"
   ]
  },
  {
   "cell_type": "code",
   "execution_count": 1,
   "metadata": {},
   "outputs": [],
   "source": [
    "import numpy as np \n",
    "import pandas as pd "
   ]
  },
  {
   "cell_type": "code",
   "execution_count": 2,
   "metadata": {},
   "outputs": [
    {
     "data": {
      "text/html": [
       "<div>\n",
       "<style scoped>\n",
       "    .dataframe tbody tr th:only-of-type {\n",
       "        vertical-align: middle;\n",
       "    }\n",
       "\n",
       "    .dataframe tbody tr th {\n",
       "        vertical-align: top;\n",
       "    }\n",
       "\n",
       "    .dataframe thead th {\n",
       "        text-align: right;\n",
       "    }\n",
       "</style>\n",
       "<table border=\"1\" class=\"dataframe\">\n",
       "  <thead>\n",
       "    <tr style=\"text-align: right;\">\n",
       "      <th></th>\n",
       "      <th>Age</th>\n",
       "      <th>Attrition</th>\n",
       "      <th>Department</th>\n",
       "      <th>DistanceFromHome</th>\n",
       "      <th>Education</th>\n",
       "      <th>EducationField</th>\n",
       "      <th>EnvironmentSatisfaction</th>\n",
       "      <th>JobSatisfaction</th>\n",
       "      <th>MaritalStatus</th>\n",
       "      <th>MonthlyIncome</th>\n",
       "      <th>NumCompaniesWorked</th>\n",
       "      <th>WorkLifeBalance</th>\n",
       "      <th>YearsAtCompany</th>\n",
       "    </tr>\n",
       "  </thead>\n",
       "  <tbody>\n",
       "    <tr>\n",
       "      <th>0</th>\n",
       "      <td>41</td>\n",
       "      <td>Yes</td>\n",
       "      <td>Sales</td>\n",
       "      <td>1</td>\n",
       "      <td>2</td>\n",
       "      <td>Life Sciences</td>\n",
       "      <td>2</td>\n",
       "      <td>4</td>\n",
       "      <td>Single</td>\n",
       "      <td>5993</td>\n",
       "      <td>8</td>\n",
       "      <td>1</td>\n",
       "      <td>6</td>\n",
       "    </tr>\n",
       "    <tr>\n",
       "      <th>1</th>\n",
       "      <td>49</td>\n",
       "      <td>No</td>\n",
       "      <td>Research &amp; Development</td>\n",
       "      <td>8</td>\n",
       "      <td>1</td>\n",
       "      <td>Life Sciences</td>\n",
       "      <td>3</td>\n",
       "      <td>2</td>\n",
       "      <td>Married</td>\n",
       "      <td>5130</td>\n",
       "      <td>1</td>\n",
       "      <td>3</td>\n",
       "      <td>10</td>\n",
       "    </tr>\n",
       "    <tr>\n",
       "      <th>2</th>\n",
       "      <td>37</td>\n",
       "      <td>Yes</td>\n",
       "      <td>Research &amp; Development</td>\n",
       "      <td>2</td>\n",
       "      <td>2</td>\n",
       "      <td>Other</td>\n",
       "      <td>4</td>\n",
       "      <td>3</td>\n",
       "      <td>Single</td>\n",
       "      <td>2090</td>\n",
       "      <td>6</td>\n",
       "      <td>3</td>\n",
       "      <td>0</td>\n",
       "    </tr>\n",
       "    <tr>\n",
       "      <th>3</th>\n",
       "      <td>33</td>\n",
       "      <td>No</td>\n",
       "      <td>Research &amp; Development</td>\n",
       "      <td>3</td>\n",
       "      <td>4</td>\n",
       "      <td>Life Sciences</td>\n",
       "      <td>4</td>\n",
       "      <td>3</td>\n",
       "      <td>Married</td>\n",
       "      <td>2909</td>\n",
       "      <td>1</td>\n",
       "      <td>3</td>\n",
       "      <td>8</td>\n",
       "    </tr>\n",
       "    <tr>\n",
       "      <th>4</th>\n",
       "      <td>27</td>\n",
       "      <td>No</td>\n",
       "      <td>Research &amp; Development</td>\n",
       "      <td>2</td>\n",
       "      <td>1</td>\n",
       "      <td>Medical</td>\n",
       "      <td>1</td>\n",
       "      <td>2</td>\n",
       "      <td>Married</td>\n",
       "      <td>3468</td>\n",
       "      <td>9</td>\n",
       "      <td>3</td>\n",
       "      <td>2</td>\n",
       "    </tr>\n",
       "  </tbody>\n",
       "</table>\n",
       "</div>"
      ],
      "text/plain": [
       "   Age Attrition              Department  DistanceFromHome  Education  \\\n",
       "0   41       Yes                   Sales                 1          2   \n",
       "1   49        No  Research & Development                 8          1   \n",
       "2   37       Yes  Research & Development                 2          2   \n",
       "3   33        No  Research & Development                 3          4   \n",
       "4   27        No  Research & Development                 2          1   \n",
       "\n",
       "  EducationField  EnvironmentSatisfaction  JobSatisfaction MaritalStatus  \\\n",
       "0  Life Sciences                        2                4        Single   \n",
       "1  Life Sciences                        3                2       Married   \n",
       "2          Other                        4                3        Single   \n",
       "3  Life Sciences                        4                3       Married   \n",
       "4        Medical                        1                2       Married   \n",
       "\n",
       "   MonthlyIncome  NumCompaniesWorked  WorkLifeBalance  YearsAtCompany  \n",
       "0           5993                   8                1               6  \n",
       "1           5130                   1                3              10  \n",
       "2           2090                   6                3               0  \n",
       "3           2909                   1                3               8  \n",
       "4           3468                   9                3               2  "
      ]
     },
     "execution_count": 2,
     "metadata": {},
     "output_type": "execute_result"
    }
   ],
   "source": [
    "df=pd.read_csv(\"C:/Users/deepusuresh/Documents/Data Science/01. Python/2. Project/2. Project with solution/1. DS with Python/7. Practice_IBM HR Analysis/IBM Attrition Data.csv\")\n",
    "df.head()"
   ]
  },
  {
   "cell_type": "code",
   "execution_count": 3,
   "metadata": {
    "scrolled": true
   },
   "outputs": [
    {
     "data": {
      "text/plain": [
       "array(['Age', 'Attrition', 'Department', 'DistanceFromHome', 'Education',\n",
       "       'EducationField', 'EnvironmentSatisfaction', 'JobSatisfaction',\n",
       "       'MaritalStatus', 'MonthlyIncome', 'NumCompaniesWorked',\n",
       "       'WorkLifeBalance', 'YearsAtCompany'], dtype=object)"
      ]
     },
     "execution_count": 3,
     "metadata": {},
     "output_type": "execute_result"
    }
   ],
   "source": [
    "names = df.columns.values \n",
    "names"
   ]
  },
  {
   "cell_type": "markdown",
   "metadata": {},
   "source": [
    "-------------------------------------------------------------------------------------------------------------------------------"
   ]
  },
  {
   "cell_type": "code",
   "execution_count": 4,
   "metadata": {},
   "outputs": [],
   "source": [
    "import matplotlib.pyplot as plt\n",
    "%matplotlib inline"
   ]
  },
  {
   "cell_type": "code",
   "execution_count": 5,
   "metadata": {},
   "outputs": [
    {
     "data": {
      "image/png": "[encoded data removed]",
      "text/plain": [
       "<Figure size 720x576 with 1 Axes>"
      ]
     },
     "metadata": {
      "needs_background": "light"
     },
     "output_type": "display_data"
    }
   ],
   "source": [
    "# histogram for age\n",
    "\n",
    "plt.figure(figsize=(10,8))\n",
    "df['Age'].hist(bins=70)\n",
    "plt.title(\"Age distribution of Employees\")\n",
    "plt.xlabel(\"Age\")\n",
    "plt.ylabel(\"# of Employees\")\n",
    "plt.show()"
   ]
  },
  {
   "cell_type": "code",
   "execution_count": 6,
   "metadata": {},
   "outputs": [
    {
     "data": {
      "image/png": "[encoded data removed]",
      "text/plain": [
       "<Figure size 1008x720 with 1 Axes>"
      ]
     },
     "metadata": {
      "needs_background": "light"
     },
     "output_type": "display_data"
    }
   ],
   "source": [
    "# explore data for Attrition by Age\n",
    "\n",
    "plt.figure(figsize=(14,10))\n",
    "plt.scatter(df.Attrition,df.Age, alpha=.55)\n",
    "plt.title(\"Attrition by Age \")\n",
    "plt.ylabel(\"Age\")\n",
    "plt.grid(b=True, which='major',axis='y')\n",
    "plt.show()"
   ]
  },
  {
   "cell_type": "code",
   "execution_count": 7,
   "metadata": {},
   "outputs": [
    {
     "data": {
      "image/png": "[encoded data removed]",
      "text/plain": [
       "<Figure size 576x432 with 1 Axes>"
      ]
     },
     "metadata": {
      "needs_background": "light"
     },
     "output_type": "display_data"
    }
   ],
   "source": [
    "# explore data for Left employees breakdown\n",
    "\n",
    "plt.figure(figsize=(8,6))\n",
    "df.Attrition.value_counts().plot(kind='barh',color='blue',alpha=.65)\n",
    "plt.title(\"Attrition breakdown \")\n",
    "plt.show()"
   ]
  },
  {
   "cell_type": "code",
   "execution_count": 8,
   "metadata": {},
   "outputs": [
    {
     "data": {
      "image/png": "[encoded data removed]",
      "text/plain": [
       "<Figure size 720x576 with 1 Axes>"
      ]
     },
     "metadata": {
      "needs_background": "light"
     },
     "output_type": "display_data"
    }
   ],
   "source": [
    "# explore data for Education Field distribution\n",
    "\n",
    "plt.figure(figsize=(10,8))\n",
    "df.EducationField.value_counts().plot(kind='barh',color='g',alpha=.65)\n",
    "plt.title(\"Education Field Distribution\")\n",
    "plt.show()"
   ]
  },
  {
   "cell_type": "code",
   "execution_count": 9,
   "metadata": {
    "scrolled": true
   },
   "outputs": [
    {
     "data": {
      "image/png": "[encoded data removed]",
      "text/plain": [
       "<Figure size 576x432 with 1 Axes>"
      ]
     },
     "metadata": {
      "needs_background": "light"
     },
     "output_type": "display_data"
    }
   ],
   "source": [
    "# explore data for Marital Status\n",
    "\n",
    "plt.figure(figsize=(8,6))\n",
    "df.MaritalStatus.value_counts().plot(kind='bar',alpha=.5)\n",
    "plt.show()"
   ]
  },
  {
   "cell_type": "markdown",
   "metadata": {},
   "source": [
    "-------------------------------------------------------------------------------------------------------------------------------"
   ]
  },
  {
   "cell_type": "code",
   "execution_count": 10,
   "metadata": {},
   "outputs": [
    {
     "data": {
      "text/html": [
       "<div>\n",
       "<style scoped>\n",
       "    .dataframe tbody tr th:only-of-type {\n",
       "        vertical-align: middle;\n",
       "    }\n",
       "\n",
       "    .dataframe tbody tr th {\n",
       "        vertical-align: top;\n",
       "    }\n",
       "\n",
       "    .dataframe thead th {\n",
       "        text-align: right;\n",
       "    }\n",
       "</style>\n",
       "<table border=\"1\" class=\"dataframe\">\n",
       "  <thead>\n",
       "    <tr style=\"text-align: right;\">\n",
       "      <th></th>\n",
       "      <th>Age</th>\n",
       "      <th>DistanceFromHome</th>\n",
       "      <th>Education</th>\n",
       "      <th>EnvironmentSatisfaction</th>\n",
       "      <th>JobSatisfaction</th>\n",
       "      <th>MonthlyIncome</th>\n",
       "      <th>NumCompaniesWorked</th>\n",
       "      <th>WorkLifeBalance</th>\n",
       "      <th>YearsAtCompany</th>\n",
       "    </tr>\n",
       "  </thead>\n",
       "  <tbody>\n",
       "    <tr>\n",
       "      <th>count</th>\n",
       "      <td>1470.000000</td>\n",
       "      <td>1470.000000</td>\n",
       "      <td>1470.000000</td>\n",
       "      <td>1470.000000</td>\n",
       "      <td>1470.000000</td>\n",
       "      <td>1470.000000</td>\n",
       "      <td>1470.000000</td>\n",
       "      <td>1470.000000</td>\n",
       "      <td>1470.000000</td>\n",
       "    </tr>\n",
       "    <tr>\n",
       "      <th>mean</th>\n",
       "      <td>36.923810</td>\n",
       "      <td>9.192517</td>\n",
       "      <td>2.912925</td>\n",
       "      <td>2.721769</td>\n",
       "      <td>2.728571</td>\n",
       "      <td>6502.931293</td>\n",
       "      <td>2.693197</td>\n",
       "      <td>2.761224</td>\n",
       "      <td>7.008163</td>\n",
       "    </tr>\n",
       "    <tr>\n",
       "      <th>std</th>\n",
       "      <td>9.135373</td>\n",
       "      <td>8.106864</td>\n",
       "      <td>1.024165</td>\n",
       "      <td>1.093082</td>\n",
       "      <td>1.102846</td>\n",
       "      <td>4707.956783</td>\n",
       "      <td>2.498009</td>\n",
       "      <td>0.706476</td>\n",
       "      <td>6.126525</td>\n",
       "    </tr>\n",
       "    <tr>\n",
       "      <th>min</th>\n",
       "      <td>18.000000</td>\n",
       "      <td>1.000000</td>\n",
       "      <td>1.000000</td>\n",
       "      <td>1.000000</td>\n",
       "      <td>1.000000</td>\n",
       "      <td>1009.000000</td>\n",
       "      <td>0.000000</td>\n",
       "      <td>1.000000</td>\n",
       "      <td>0.000000</td>\n",
       "    </tr>\n",
       "    <tr>\n",
       "      <th>25%</th>\n",
       "      <td>30.000000</td>\n",
       "      <td>2.000000</td>\n",
       "      <td>2.000000</td>\n",
       "      <td>2.000000</td>\n",
       "      <td>2.000000</td>\n",
       "      <td>2911.000000</td>\n",
       "      <td>1.000000</td>\n",
       "      <td>2.000000</td>\n",
       "      <td>3.000000</td>\n",
       "    </tr>\n",
       "    <tr>\n",
       "      <th>50%</th>\n",
       "      <td>36.000000</td>\n",
       "      <td>7.000000</td>\n",
       "      <td>3.000000</td>\n",
       "      <td>3.000000</td>\n",
       "      <td>3.000000</td>\n",
       "      <td>4919.000000</td>\n",
       "      <td>2.000000</td>\n",
       "      <td>3.000000</td>\n",
       "      <td>5.000000</td>\n",
       "    </tr>\n",
       "    <tr>\n",
       "      <th>75%</th>\n",
       "      <td>43.000000</td>\n",
       "      <td>14.000000</td>\n",
       "      <td>4.000000</td>\n",
       "      <td>4.000000</td>\n",
       "      <td>4.000000</td>\n",
       "      <td>8379.000000</td>\n",
       "      <td>4.000000</td>\n",
       "      <td>3.000000</td>\n",
       "      <td>9.000000</td>\n",
       "    </tr>\n",
       "    <tr>\n",
       "      <th>max</th>\n",
       "      <td>60.000000</td>\n",
       "      <td>29.000000</td>\n",
       "      <td>5.000000</td>\n",
       "      <td>4.000000</td>\n",
       "      <td>4.000000</td>\n",
       "      <td>19999.000000</td>\n",
       "      <td>9.000000</td>\n",
       "      <td>4.000000</td>\n",
       "      <td>40.000000</td>\n",
       "    </tr>\n",
       "  </tbody>\n",
       "</table>\n",
       "</div>"
      ],
      "text/plain": [
       "               Age  DistanceFromHome    Education  EnvironmentSatisfaction  \\\n",
       "count  1470.000000       1470.000000  1470.000000              1470.000000   \n",
       "mean     36.923810          9.192517     2.912925                 2.721769   \n",
       "std       9.135373          8.106864     1.024165                 1.093082   \n",
       "min      18.000000          1.000000     1.000000                 1.000000   \n",
       "25%      30.000000          2.000000     2.000000                 2.000000   \n",
       "50%      36.000000          7.000000     3.000000                 3.000000   \n",
       "75%      43.000000         14.000000     4.000000                 4.000000   \n",
       "max      60.000000         29.000000     5.000000                 4.000000   \n",
       "\n",
       "       JobSatisfaction  MonthlyIncome  NumCompaniesWorked  WorkLifeBalance  \\\n",
       "count      1470.000000    1470.000000         1470.000000      1470.000000   \n",
       "mean          2.728571    6502.931293            2.693197         2.761224   \n",
       "std           1.102846    4707.956783            2.498009         0.706476   \n",
       "min           1.000000    1009.000000            0.000000         1.000000   \n",
       "25%           2.000000    2911.000000            1.000000         2.000000   \n",
       "50%           3.000000    4919.000000            2.000000         3.000000   \n",
       "75%           4.000000    8379.000000            4.000000         3.000000   \n",
       "max           4.000000   19999.000000            9.000000         4.000000   \n",
       "\n",
       "       YearsAtCompany  \n",
       "count     1470.000000  \n",
       "mean         7.008163  \n",
       "std          6.126525  \n",
       "min          0.000000  \n",
       "25%          3.000000  \n",
       "50%          5.000000  \n",
       "75%          9.000000  \n",
       "max         40.000000  "
      ]
     },
     "execution_count": 10,
     "metadata": {},
     "output_type": "execute_result"
    }
   ],
   "source": [
    "df.describe()"
   ]
  },
  {
   "cell_type": "code",
   "execution_count": 11,
   "metadata": {},
   "outputs": [
    {
     "name": "stdout",
     "output_type": "stream",
     "text": [
      "<class 'pandas.core.frame.DataFrame'>\n",
      "RangeIndex: 1470 entries, 0 to 1469\n",
      "Data columns (total 13 columns):\n",
      "Age                        1470 non-null int64\n",
      "Attrition                  1470 non-null object\n",
      "Department                 1470 non-null object\n",
      "DistanceFromHome           1470 non-null int64\n",
      "Education                  1470 non-null int64\n",
      "EducationField             1470 non-null object\n",
      "EnvironmentSatisfaction    1470 non-null int64\n",
      "JobSatisfaction            1470 non-null int64\n",
      "MaritalStatus              1470 non-null object\n",
      "MonthlyIncome              1470 non-null int64\n",
      "NumCompaniesWorked         1470 non-null int64\n",
      "WorkLifeBalance            1470 non-null int64\n",
      "YearsAtCompany             1470 non-null int64\n",
      "dtypes: int64(9), object(4)\n",
      "memory usage: 149.4+ KB\n"
     ]
    }
   ],
   "source": [
    "df.info()"
   ]
  },
  {
   "cell_type": "code",
   "execution_count": 12,
   "metadata": {},
   "outputs": [
    {
     "data": {
      "text/plain": [
       "Index(['Age', 'Attrition', 'Department', 'DistanceFromHome', 'Education',\n",
       "       'EducationField', 'EnvironmentSatisfaction', 'JobSatisfaction',\n",
       "       'MaritalStatus', 'MonthlyIncome', 'NumCompaniesWorked',\n",
       "       'WorkLifeBalance', 'YearsAtCompany'],\n",
       "      dtype='object')"
      ]
     },
     "execution_count": 12,
     "metadata": {},
     "output_type": "execute_result"
    }
   ],
   "source": [
    "df.columns"
   ]
  },
  {
   "cell_type": "code",
   "execution_count": 13,
   "metadata": {},
   "outputs": [
    {
     "data": {
      "text/plain": [
       "Age                           9.135373\n",
       "DistanceFromHome              8.106864\n",
       "Education                     1.024165\n",
       "EnvironmentSatisfaction       1.093082\n",
       "JobSatisfaction               1.102846\n",
       "MonthlyIncome              4707.956783\n",
       "NumCompaniesWorked            2.498009\n",
       "WorkLifeBalance               0.706476\n",
       "YearsAtCompany                6.126525\n",
       "dtype: float64"
      ]
     },
     "execution_count": 13,
     "metadata": {},
     "output_type": "execute_result"
    }
   ],
   "source": [
    "df.std()"
   ]
  },
  {
   "cell_type": "code",
   "execution_count": 14,
   "metadata": {},
   "outputs": [
    {
     "data": {
      "text/plain": [
       "No     1233\n",
       "Yes     237\n",
       "Name: Attrition, dtype: int64"
      ]
     },
     "execution_count": 14,
     "metadata": {},
     "output_type": "execute_result"
    }
   ],
   "source": [
    "df['Attrition'].value_counts()"
   ]
  },
  {
   "cell_type": "code",
   "execution_count": 15,
   "metadata": {},
   "outputs": [
    {
     "data": {
      "text/plain": [
       "dtype('O')"
      ]
     },
     "execution_count": 15,
     "metadata": {},
     "output_type": "execute_result"
    }
   ],
   "source": [
    "df['Attrition'].dtypes"
   ]
  },
  {
   "cell_type": "code",
   "execution_count": 16,
   "metadata": {},
   "outputs": [
    {
     "data": {
      "text/plain": [
       "(1470, 13)"
      ]
     },
     "execution_count": 16,
     "metadata": {},
     "output_type": "execute_result"
    }
   ],
   "source": [
    "df.shape"
   ]
  },
  {
   "cell_type": "code",
   "execution_count": 17,
   "metadata": {},
   "outputs": [
    {
     "data": {
      "text/plain": [
       "RangeIndex(start=0, stop=1470, step=1)"
      ]
     },
     "execution_count": 17,
     "metadata": {},
     "output_type": "execute_result"
    }
   ],
   "source": [
    "df.index"
   ]
  },
  {
   "cell_type": "code",
   "execution_count": 18,
   "metadata": {},
   "outputs": [
    {
     "data": {
      "text/plain": [
       "Age                        1470\n",
       "Attrition                  1470\n",
       "Department                 1470\n",
       "DistanceFromHome           1470\n",
       "Education                  1470\n",
       "EducationField             1470\n",
       "EnvironmentSatisfaction    1470\n",
       "JobSatisfaction            1470\n",
       "MaritalStatus              1470\n",
       "MonthlyIncome              1470\n",
       "NumCompaniesWorked         1470\n",
       "WorkLifeBalance            1470\n",
       "YearsAtCompany             1470\n",
       "dtype: int64"
      ]
     },
     "execution_count": 18,
     "metadata": {},
     "output_type": "execute_result"
    }
   ],
   "source": [
    "df.count()"
   ]
  },
  {
   "cell_type": "code",
   "execution_count": 19,
   "metadata": {
    "scrolled": true
   },
   "outputs": [
    {
     "data": {
      "text/plain": [
       "19110"
      ]
     },
     "execution_count": 19,
     "metadata": {},
     "output_type": "execute_result"
    }
   ],
   "source": [
    "df.size"
   ]
  },
  {
   "cell_type": "code",
   "execution_count": 22,
   "metadata": {},
   "outputs": [
    {
     "data": {
      "text/plain": [
       "array([[41, 'Yes', 'Sales', ..., 8, 1, 6],\n",
       "       [49, 'No', 'Research & Development', ..., 1, 3, 10],\n",
       "       [37, 'Yes', 'Research & Development', ..., 6, 3, 0],\n",
       "       ...,\n",
       "       [27, 'No', 'Research & Development', ..., 1, 3, 6],\n",
       "       [49, 'No', 'Sales', ..., 2, 2, 9],\n",
       "       [34, 'No', 'Research & Development', ..., 2, 4, 4]], dtype=object)"
      ]
     },
     "execution_count": 22,
     "metadata": {},
     "output_type": "execute_result"
    }
   ],
   "source": [
    "df.values"
   ]
  },
  {
   "cell_type": "markdown",
   "metadata": {},
   "source": [
    "-------------------------------------------------------------------------------------------------------------------------------"
   ]
  },
  {
   "cell_type": "code",
   "execution_count": 23,
   "metadata": {},
   "outputs": [],
   "source": [
    "df['Attrition'].replace('Yes',1, inplace=True)\n",
    "df['Attrition'].replace('No',0, inplace=True)"
   ]
  },
  {
   "cell_type": "code",
   "execution_count": 24,
   "metadata": {},
   "outputs": [
    {
     "data": {
      "text/html": [
       "<div>\n",
       "<style scoped>\n",
       "    .dataframe tbody tr th:only-of-type {\n",
       "        vertical-align: middle;\n",
       "    }\n",
       "\n",
       "    .dataframe tbody tr th {\n",
       "        vertical-align: top;\n",
       "    }\n",
       "\n",
       "    .dataframe thead th {\n",
       "        text-align: right;\n",
       "    }\n",
       "</style>\n",
       "<table border=\"1\" class=\"dataframe\">\n",
       "  <thead>\n",
       "    <tr style=\"text-align: right;\">\n",
       "      <th></th>\n",
       "      <th>Age</th>\n",
       "      <th>Attrition</th>\n",
       "      <th>Department</th>\n",
       "      <th>DistanceFromHome</th>\n",
       "      <th>Education</th>\n",
       "      <th>EducationField</th>\n",
       "      <th>EnvironmentSatisfaction</th>\n",
       "      <th>JobSatisfaction</th>\n",
       "      <th>MaritalStatus</th>\n",
       "      <th>MonthlyIncome</th>\n",
       "      <th>NumCompaniesWorked</th>\n",
       "      <th>WorkLifeBalance</th>\n",
       "      <th>YearsAtCompany</th>\n",
       "    </tr>\n",
       "  </thead>\n",
       "  <tbody>\n",
       "    <tr>\n",
       "      <th>0</th>\n",
       "      <td>41</td>\n",
       "      <td>1</td>\n",
       "      <td>Sales</td>\n",
       "      <td>1</td>\n",
       "      <td>2</td>\n",
       "      <td>Life Sciences</td>\n",
       "      <td>2</td>\n",
       "      <td>4</td>\n",
       "      <td>Single</td>\n",
       "      <td>5993</td>\n",
       "      <td>8</td>\n",
       "      <td>1</td>\n",
       "      <td>6</td>\n",
       "    </tr>\n",
       "    <tr>\n",
       "      <th>1</th>\n",
       "      <td>49</td>\n",
       "      <td>0</td>\n",
       "      <td>Research &amp; Development</td>\n",
       "      <td>8</td>\n",
       "      <td>1</td>\n",
       "      <td>Life Sciences</td>\n",
       "      <td>3</td>\n",
       "      <td>2</td>\n",
       "      <td>Married</td>\n",
       "      <td>5130</td>\n",
       "      <td>1</td>\n",
       "      <td>3</td>\n",
       "      <td>10</td>\n",
       "    </tr>\n",
       "    <tr>\n",
       "      <th>2</th>\n",
       "      <td>37</td>\n",
       "      <td>1</td>\n",
       "      <td>Research &amp; Development</td>\n",
       "      <td>2</td>\n",
       "      <td>2</td>\n",
       "      <td>Other</td>\n",
       "      <td>4</td>\n",
       "      <td>3</td>\n",
       "      <td>Single</td>\n",
       "      <td>2090</td>\n",
       "      <td>6</td>\n",
       "      <td>3</td>\n",
       "      <td>0</td>\n",
       "    </tr>\n",
       "    <tr>\n",
       "      <th>3</th>\n",
       "      <td>33</td>\n",
       "      <td>0</td>\n",
       "      <td>Research &amp; Development</td>\n",
       "      <td>3</td>\n",
       "      <td>4</td>\n",
       "      <td>Life Sciences</td>\n",
       "      <td>4</td>\n",
       "      <td>3</td>\n",
       "      <td>Married</td>\n",
       "      <td>2909</td>\n",
       "      <td>1</td>\n",
       "      <td>3</td>\n",
       "      <td>8</td>\n",
       "    </tr>\n",
       "    <tr>\n",
       "      <th>4</th>\n",
       "      <td>27</td>\n",
       "      <td>0</td>\n",
       "      <td>Research &amp; Development</td>\n",
       "      <td>2</td>\n",
       "      <td>1</td>\n",
       "      <td>Medical</td>\n",
       "      <td>1</td>\n",
       "      <td>2</td>\n",
       "      <td>Married</td>\n",
       "      <td>3468</td>\n",
       "      <td>9</td>\n",
       "      <td>3</td>\n",
       "      <td>2</td>\n",
       "    </tr>\n",
       "    <tr>\n",
       "      <th>5</th>\n",
       "      <td>32</td>\n",
       "      <td>0</td>\n",
       "      <td>Research &amp; Development</td>\n",
       "      <td>2</td>\n",
       "      <td>2</td>\n",
       "      <td>Life Sciences</td>\n",
       "      <td>4</td>\n",
       "      <td>4</td>\n",
       "      <td>Single</td>\n",
       "      <td>3068</td>\n",
       "      <td>0</td>\n",
       "      <td>2</td>\n",
       "      <td>7</td>\n",
       "    </tr>\n",
       "    <tr>\n",
       "      <th>6</th>\n",
       "      <td>59</td>\n",
       "      <td>0</td>\n",
       "      <td>Research &amp; Development</td>\n",
       "      <td>3</td>\n",
       "      <td>3</td>\n",
       "      <td>Medical</td>\n",
       "      <td>3</td>\n",
       "      <td>1</td>\n",
       "      <td>Married</td>\n",
       "      <td>2670</td>\n",
       "      <td>4</td>\n",
       "      <td>2</td>\n",
       "      <td>1</td>\n",
       "    </tr>\n",
       "    <tr>\n",
       "      <th>7</th>\n",
       "      <td>30</td>\n",
       "      <td>0</td>\n",
       "      <td>Research &amp; Development</td>\n",
       "      <td>24</td>\n",
       "      <td>1</td>\n",
       "      <td>Life Sciences</td>\n",
       "      <td>4</td>\n",
       "      <td>3</td>\n",
       "      <td>Divorced</td>\n",
       "      <td>2693</td>\n",
       "      <td>1</td>\n",
       "      <td>3</td>\n",
       "      <td>1</td>\n",
       "    </tr>\n",
       "    <tr>\n",
       "      <th>8</th>\n",
       "      <td>38</td>\n",
       "      <td>0</td>\n",
       "      <td>Research &amp; Development</td>\n",
       "      <td>23</td>\n",
       "      <td>3</td>\n",
       "      <td>Life Sciences</td>\n",
       "      <td>4</td>\n",
       "      <td>3</td>\n",
       "      <td>Single</td>\n",
       "      <td>9526</td>\n",
       "      <td>0</td>\n",
       "      <td>3</td>\n",
       "      <td>9</td>\n",
       "    </tr>\n",
       "    <tr>\n",
       "      <th>9</th>\n",
       "      <td>36</td>\n",
       "      <td>0</td>\n",
       "      <td>Research &amp; Development</td>\n",
       "      <td>27</td>\n",
       "      <td>3</td>\n",
       "      <td>Medical</td>\n",
       "      <td>3</td>\n",
       "      <td>3</td>\n",
       "      <td>Married</td>\n",
       "      <td>5237</td>\n",
       "      <td>6</td>\n",
       "      <td>2</td>\n",
       "      <td>7</td>\n",
       "    </tr>\n",
       "  </tbody>\n",
       "</table>\n",
       "</div>"
      ],
      "text/plain": [
       "   Age  Attrition              Department  DistanceFromHome  Education  \\\n",
       "0   41          1                   Sales                 1          2   \n",
       "1   49          0  Research & Development                 8          1   \n",
       "2   37          1  Research & Development                 2          2   \n",
       "3   33          0  Research & Development                 3          4   \n",
       "4   27          0  Research & Development                 2          1   \n",
       "5   32          0  Research & Development                 2          2   \n",
       "6   59          0  Research & Development                 3          3   \n",
       "7   30          0  Research & Development                24          1   \n",
       "8   38          0  Research & Development                23          3   \n",
       "9   36          0  Research & Development                27          3   \n",
       "\n",
       "  EducationField  EnvironmentSatisfaction  JobSatisfaction MaritalStatus  \\\n",
       "0  Life Sciences                        2                4        Single   \n",
       "1  Life Sciences                        3                2       Married   \n",
       "2          Other                        4                3        Single   \n",
       "3  Life Sciences                        4                3       Married   \n",
       "4        Medical                        1                2       Married   \n",
       "5  Life Sciences                        4                4        Single   \n",
       "6        Medical                        3                1       Married   \n",
       "7  Life Sciences                        4                3      Divorced   \n",
       "8  Life Sciences                        4                3        Single   \n",
       "9        Medical                        3                3       Married   \n",
       "\n",
       "   MonthlyIncome  NumCompaniesWorked  WorkLifeBalance  YearsAtCompany  \n",
       "0           5993                   8                1               6  \n",
       "1           5130                   1                3              10  \n",
       "2           2090                   6                3               0  \n",
       "3           2909                   1                3               8  \n",
       "4           3468                   9                3               2  \n",
       "5           3068                   0                2               7  \n",
       "6           2670                   4                2               1  \n",
       "7           2693                   1                3               1  \n",
       "8           9526                   0                3               9  \n",
       "9           5237                   6                2               7  "
      ]
     },
     "execution_count": 24,
     "metadata": {},
     "output_type": "execute_result"
    }
   ],
   "source": [
    "df.head(10)"
   ]
  },
  {
   "cell_type": "code",
   "execution_count": 25,
   "metadata": {
    "scrolled": true
   },
   "outputs": [
    {
     "data": {
      "text/html": [
       "<div>\n",
       "<style scoped>\n",
       "    .dataframe tbody tr th:only-of-type {\n",
       "        vertical-align: middle;\n",
       "    }\n",
       "\n",
       "    .dataframe tbody tr th {\n",
       "        vertical-align: top;\n",
       "    }\n",
       "\n",
       "    .dataframe thead th {\n",
       "        text-align: right;\n",
       "    }\n",
       "</style>\n",
       "<table border=\"1\" class=\"dataframe\">\n",
       "  <thead>\n",
       "    <tr style=\"text-align: right;\">\n",
       "      <th></th>\n",
       "      <th>Age</th>\n",
       "      <th>Department</th>\n",
       "      <th>DistanceFromHome</th>\n",
       "      <th>Education</th>\n",
       "      <th>EducationField</th>\n",
       "      <th>EnvironmentSatisfaction</th>\n",
       "      <th>JobSatisfaction</th>\n",
       "      <th>MaritalStatus</th>\n",
       "      <th>MonthlyIncome</th>\n",
       "      <th>NumCompaniesWorked</th>\n",
       "      <th>WorkLifeBalance</th>\n",
       "      <th>YearsAtCompany</th>\n",
       "    </tr>\n",
       "  </thead>\n",
       "  <tbody>\n",
       "    <tr>\n",
       "      <th>0</th>\n",
       "      <td>41</td>\n",
       "      <td>Sales</td>\n",
       "      <td>1</td>\n",
       "      <td>2</td>\n",
       "      <td>Life Sciences</td>\n",
       "      <td>2</td>\n",
       "      <td>4</td>\n",
       "      <td>Single</td>\n",
       "      <td>5993</td>\n",
       "      <td>8</td>\n",
       "      <td>1</td>\n",
       "      <td>6</td>\n",
       "    </tr>\n",
       "    <tr>\n",
       "      <th>1</th>\n",
       "      <td>49</td>\n",
       "      <td>Research &amp; Development</td>\n",
       "      <td>8</td>\n",
       "      <td>1</td>\n",
       "      <td>Life Sciences</td>\n",
       "      <td>3</td>\n",
       "      <td>2</td>\n",
       "      <td>Married</td>\n",
       "      <td>5130</td>\n",
       "      <td>1</td>\n",
       "      <td>3</td>\n",
       "      <td>10</td>\n",
       "    </tr>\n",
       "    <tr>\n",
       "      <th>2</th>\n",
       "      <td>37</td>\n",
       "      <td>Research &amp; Development</td>\n",
       "      <td>2</td>\n",
       "      <td>2</td>\n",
       "      <td>Other</td>\n",
       "      <td>4</td>\n",
       "      <td>3</td>\n",
       "      <td>Single</td>\n",
       "      <td>2090</td>\n",
       "      <td>6</td>\n",
       "      <td>3</td>\n",
       "      <td>0</td>\n",
       "    </tr>\n",
       "    <tr>\n",
       "      <th>3</th>\n",
       "      <td>33</td>\n",
       "      <td>Research &amp; Development</td>\n",
       "      <td>3</td>\n",
       "      <td>4</td>\n",
       "      <td>Life Sciences</td>\n",
       "      <td>4</td>\n",
       "      <td>3</td>\n",
       "      <td>Married</td>\n",
       "      <td>2909</td>\n",
       "      <td>1</td>\n",
       "      <td>3</td>\n",
       "      <td>8</td>\n",
       "    </tr>\n",
       "    <tr>\n",
       "      <th>4</th>\n",
       "      <td>27</td>\n",
       "      <td>Research &amp; Development</td>\n",
       "      <td>2</td>\n",
       "      <td>1</td>\n",
       "      <td>Medical</td>\n",
       "      <td>1</td>\n",
       "      <td>2</td>\n",
       "      <td>Married</td>\n",
       "      <td>3468</td>\n",
       "      <td>9</td>\n",
       "      <td>3</td>\n",
       "      <td>2</td>\n",
       "    </tr>\n",
       "  </tbody>\n",
       "</table>\n",
       "</div>"
      ],
      "text/plain": [
       "   Age              Department  DistanceFromHome  Education EducationField  \\\n",
       "0   41                   Sales                 1          2  Life Sciences   \n",
       "1   49  Research & Development                 8          1  Life Sciences   \n",
       "2   37  Research & Development                 2          2          Other   \n",
       "3   33  Research & Development                 3          4  Life Sciences   \n",
       "4   27  Research & Development                 2          1        Medical   \n",
       "\n",
       "   EnvironmentSatisfaction  JobSatisfaction MaritalStatus  MonthlyIncome  \\\n",
       "0                        2                4        Single           5993   \n",
       "1                        3                2       Married           5130   \n",
       "2                        4                3        Single           2090   \n",
       "3                        4                3       Married           2909   \n",
       "4                        1                2       Married           3468   \n",
       "\n",
       "   NumCompaniesWorked  WorkLifeBalance  YearsAtCompany  \n",
       "0                   8                1               6  \n",
       "1                   1                3              10  \n",
       "2                   6                3               0  \n",
       "3                   1                3               8  \n",
       "4                   9                3               2  "
      ]
     },
     "execution_count": 25,
     "metadata": {},
     "output_type": "execute_result"
    }
   ],
   "source": [
    "# building up a logistic regression model\n",
    "\n",
    "X = df.drop(['Attrition'],axis=1)\n",
    "X.head()"
   ]
  },
  {
   "cell_type": "code",
   "execution_count": 26,
   "metadata": {},
   "outputs": [
    {
     "data": {
      "text/plain": [
       "0    1\n",
       "1    0\n",
       "2    1\n",
       "3    0\n",
       "4    0\n",
       "Name: Attrition, dtype: int64"
      ]
     },
     "execution_count": 26,
     "metadata": {},
     "output_type": "execute_result"
    }
   ],
   "source": [
    "Y = df['Attrition']\n",
    "Y.head()"
   ]
  },
  {
   "cell_type": "code",
   "execution_count": 27,
   "metadata": {},
   "outputs": [],
   "source": [
    "df['EducationField'].replace('Life Sciences',1, inplace=True)\n",
    "df['EducationField'].replace('Medical',2, inplace=True)\n",
    "df['EducationField'].replace('Marketing', 3, inplace=True)\n",
    "df['EducationField'].replace('Other',4, inplace=True)\n",
    "df['EducationField'].replace('Technical Degree',5, inplace=True)\n",
    "df['EducationField'].replace('Human Resources', 6, inplace=True)"
   ]
  },
  {
   "cell_type": "code",
   "execution_count": 28,
   "metadata": {},
   "outputs": [
    {
     "data": {
      "text/plain": [
       "1    606\n",
       "2    464\n",
       "3    159\n",
       "5    132\n",
       "4     82\n",
       "6     27\n",
       "Name: EducationField, dtype: int64"
      ]
     },
     "execution_count": 28,
     "metadata": {},
     "output_type": "execute_result"
    }
   ],
   "source": [
    "df['EducationField'].value_counts()"
   ]
  },
  {
   "cell_type": "code",
   "execution_count": 29,
   "metadata": {},
   "outputs": [
    {
     "data": {
      "text/plain": [
       "Research & Development    961\n",
       "Sales                     446\n",
       "Human Resources            63\n",
       "Name: Department, dtype: int64"
      ]
     },
     "execution_count": 29,
     "metadata": {},
     "output_type": "execute_result"
    }
   ],
   "source": [
    "df['Department'].value_counts()"
   ]
  },
  {
   "cell_type": "code",
   "execution_count": 30,
   "metadata": {},
   "outputs": [],
   "source": [
    "df['Department'].replace('Research & Development',1, inplace=True)\n",
    "df['Department'].replace('Sales',2, inplace=True)\n",
    "df['Department'].replace('Human Resources', 3, inplace=True)"
   ]
  },
  {
   "cell_type": "code",
   "execution_count": 31,
   "metadata": {},
   "outputs": [
    {
     "data": {
      "text/plain": [
       "1    961\n",
       "2    446\n",
       "3     63\n",
       "Name: Department, dtype: int64"
      ]
     },
     "execution_count": 31,
     "metadata": {},
     "output_type": "execute_result"
    }
   ],
   "source": [
    "df['Department'].value_counts()"
   ]
  },
  {
   "cell_type": "code",
   "execution_count": 32,
   "metadata": {},
   "outputs": [
    {
     "data": {
      "text/plain": [
       "Married     673\n",
       "Single      470\n",
       "Divorced    327\n",
       "Name: MaritalStatus, dtype: int64"
      ]
     },
     "execution_count": 32,
     "metadata": {},
     "output_type": "execute_result"
    }
   ],
   "source": [
    "df['MaritalStatus'].value_counts()"
   ]
  },
  {
   "cell_type": "code",
   "execution_count": 33,
   "metadata": {},
   "outputs": [],
   "source": [
    "df['MaritalStatus'].replace('Married',1, inplace=True)\n",
    "df['MaritalStatus'].replace('Single',2, inplace=True)\n",
    "df['MaritalStatus'].replace('Divorced',3, inplace=True)"
   ]
  },
  {
   "cell_type": "code",
   "execution_count": 34,
   "metadata": {},
   "outputs": [
    {
     "data": {
      "text/plain": [
       "1    673\n",
       "2    470\n",
       "3    327\n",
       "Name: MaritalStatus, dtype: int64"
      ]
     },
     "execution_count": 34,
     "metadata": {},
     "output_type": "execute_result"
    }
   ],
   "source": [
    "df['MaritalStatus'].value_counts()"
   ]
  },
  {
   "cell_type": "code",
   "execution_count": 35,
   "metadata": {},
   "outputs": [
    {
     "data": {
      "text/plain": [
       "Age                        int64\n",
       "Attrition                  int64\n",
       "Department                 int64\n",
       "DistanceFromHome           int64\n",
       "Education                  int64\n",
       "EducationField             int64\n",
       "EnvironmentSatisfaction    int64\n",
       "JobSatisfaction            int64\n",
       "MaritalStatus              int64\n",
       "MonthlyIncome              int64\n",
       "NumCompaniesWorked         int64\n",
       "WorkLifeBalance            int64\n",
       "YearsAtCompany             int64\n",
       "dtype: object"
      ]
     },
     "execution_count": 35,
     "metadata": {},
     "output_type": "execute_result"
    }
   ],
   "source": [
    "x=df.select_dtypes(include=['int64'])\n",
    "x.dtypes"
   ]
  },
  {
   "cell_type": "code",
   "execution_count": 36,
   "metadata": {},
   "outputs": [
    {
     "data": {
      "text/plain": [
       "Index(['Age', 'Attrition', 'Department', 'DistanceFromHome', 'Education',\n",
       "       'EducationField', 'EnvironmentSatisfaction', 'JobSatisfaction',\n",
       "       'MaritalStatus', 'MonthlyIncome', 'NumCompaniesWorked',\n",
       "       'WorkLifeBalance', 'YearsAtCompany'],\n",
       "      dtype='object')"
      ]
     },
     "execution_count": 36,
     "metadata": {},
     "output_type": "execute_result"
    }
   ],
   "source": [
    "x.columns"
   ]
  },
  {
   "cell_type": "code",
   "execution_count": 37,
   "metadata": {},
   "outputs": [],
   "source": [
    "y=df['Attrition']"
   ]
  },
  {
   "cell_type": "code",
   "execution_count": 38,
   "metadata": {
    "scrolled": true
   },
   "outputs": [
    {
     "data": {
      "text/plain": [
       "0    1\n",
       "1    0\n",
       "2    1\n",
       "3    0\n",
       "4    0\n",
       "Name: Attrition, dtype: int64"
      ]
     },
     "execution_count": 38,
     "metadata": {},
     "output_type": "execute_result"
    }
   ],
   "source": [
    "y.head()"
   ]
  },
  {
   "cell_type": "code",
   "execution_count": 39,
   "metadata": {},
   "outputs": [],
   "source": [
    "from patsy import dmatrices"
   ]
  },
  {
   "cell_type": "code",
   "execution_count": 40,
   "metadata": {
    "collapsed": true
   },
   "outputs": [
    {
     "ename": "PatsyError",
     "evalue": "unrecognized output type 'df', should be 'matrix' or 'dataframe'",
     "output_type": "error",
     "traceback": [
      "\u001b[1;31m---------------------------------------------------------------------------\u001b[0m",
      "\u001b[1;31mPatsyError\u001b[0m                                Traceback (most recent call last)",
      "\u001b[1;32m<ipython-input-40-86d974dc6df8>\u001b[0m in \u001b[0;36m<module>\u001b[1;34m\u001b[0m\n\u001b[0;32m      1\u001b[0m y, x = dmatrices('Attrition ~ Age + Department + \\\n\u001b[0;32m      2\u001b[0m                   \u001b[0mDistanceFromHome\u001b[0m \u001b[1;33m+\u001b[0m \u001b[0mEducation\u001b[0m \u001b[1;33m+\u001b[0m \u001b[0mEducationField\u001b[0m \u001b[1;33m+\u001b[0m \u001b[0mYearsAtCompany\u001b[0m\u001b[0;31m'\u001b[0m\u001b[1;33m,\u001b[0m\u001b[1;33m\u001b[0m\u001b[1;33m\u001b[0m\u001b[0m\n\u001b[1;32m----> 3\u001b[1;33m                   df, return_type=\"df\")\n\u001b[0m\u001b[0;32m      4\u001b[0m \u001b[0mprint\u001b[0m \u001b[1;33m(\u001b[0m\u001b[0mx\u001b[0m\u001b[1;33m.\u001b[0m\u001b[0mcolumns\u001b[0m\u001b[1;33m)\u001b[0m\u001b[1;33m\u001b[0m\u001b[1;33m\u001b[0m\u001b[0m\n",
      "\u001b[1;32m~\\Anaconda3\\lib\\site-packages\\patsy\\highlevel.py\u001b[0m in \u001b[0;36mdmatrices\u001b[1;34m(formula_like, data, eval_env, NA_action, return_type)\u001b[0m\n\u001b[0;32m    308\u001b[0m     \u001b[0meval_env\u001b[0m \u001b[1;33m=\u001b[0m \u001b[0mEvalEnvironment\u001b[0m\u001b[1;33m.\u001b[0m\u001b[0mcapture\u001b[0m\u001b[1;33m(\u001b[0m\u001b[0meval_env\u001b[0m\u001b[1;33m,\u001b[0m \u001b[0mreference\u001b[0m\u001b[1;33m=\u001b[0m\u001b[1;36m1\u001b[0m\u001b[1;33m)\u001b[0m\u001b[1;33m\u001b[0m\u001b[1;33m\u001b[0m\u001b[0m\n\u001b[0;32m    309\u001b[0m     (lhs, rhs) = _do_highlevel_design(formula_like, data, eval_env,\n\u001b[1;32m--> 310\u001b[1;33m                                       NA_action, return_type)\n\u001b[0m\u001b[0;32m    311\u001b[0m     \u001b[1;32mif\u001b[0m \u001b[0mlhs\u001b[0m\u001b[1;33m.\u001b[0m\u001b[0mshape\u001b[0m\u001b[1;33m[\u001b[0m\u001b[1;36m1\u001b[0m\u001b[1;33m]\u001b[0m \u001b[1;33m==\u001b[0m \u001b[1;36m0\u001b[0m\u001b[1;33m:\u001b[0m\u001b[1;33m\u001b[0m\u001b[1;33m\u001b[0m\u001b[0m\n\u001b[0;32m    312\u001b[0m         \u001b[1;32mraise\u001b[0m \u001b[0mPatsyError\u001b[0m\u001b[1;33m(\u001b[0m\u001b[1;34m\"model is missing required outcome variables\"\u001b[0m\u001b[1;33m)\u001b[0m\u001b[1;33m\u001b[0m\u001b[1;33m\u001b[0m\u001b[0m\n",
      "\u001b[1;32m~\\Anaconda3\\lib\\site-packages\\patsy\\highlevel.py\u001b[0m in \u001b[0;36m_do_highlevel_design\u001b[1;34m(formula_like, data, eval_env, NA_action, return_type)\u001b[0m\n\u001b[0;32m    159\u001b[0m     \u001b[1;32mif\u001b[0m \u001b[0mreturn_type\u001b[0m \u001b[1;32mnot\u001b[0m \u001b[1;32min\u001b[0m \u001b[1;33m(\u001b[0m\u001b[1;34m\"matrix\"\u001b[0m\u001b[1;33m,\u001b[0m \u001b[1;34m\"dataframe\"\u001b[0m\u001b[1;33m)\u001b[0m\u001b[1;33m:\u001b[0m\u001b[1;33m\u001b[0m\u001b[1;33m\u001b[0m\u001b[0m\n\u001b[0;32m    160\u001b[0m         raise PatsyError(\"unrecognized output type %r, should be \"\n\u001b[1;32m--> 161\u001b[1;33m                             \"'matrix' or 'dataframe'\" % (return_type,))\n\u001b[0m\u001b[0;32m    162\u001b[0m     \u001b[1;32mdef\u001b[0m \u001b[0mdata_iter_maker\u001b[0m\u001b[1;33m(\u001b[0m\u001b[1;33m)\u001b[0m\u001b[1;33m:\u001b[0m\u001b[1;33m\u001b[0m\u001b[1;33m\u001b[0m\u001b[0m\n\u001b[0;32m    163\u001b[0m         \u001b[1;32mreturn\u001b[0m \u001b[0miter\u001b[0m\u001b[1;33m(\u001b[0m\u001b[1;33m[\u001b[0m\u001b[0mdata\u001b[0m\u001b[1;33m]\u001b[0m\u001b[1;33m)\u001b[0m\u001b[1;33m\u001b[0m\u001b[1;33m\u001b[0m\u001b[0m\n",
      "\u001b[1;31mPatsyError\u001b[0m: unrecognized output type 'df', should be 'matrix' or 'dataframe'"
     ]
    }
   ],
   "source": [
    "y, x = dmatrices('Attrition ~ Age + Department + \\\n",
    "                  DistanceFromHome + Education + EducationField + YearsAtCompany',\n",
    "                  df, return_type=\"df\")\n",
    "print (x.columns)"
   ]
  },
  {
   "cell_type": "code",
   "execution_count": 41,
   "metadata": {},
   "outputs": [
    {
     "data": {
      "text/plain": [
       "array([1, 0, 1, ..., 0, 0, 0], dtype=int64)"
      ]
     },
     "execution_count": 41,
     "metadata": {},
     "output_type": "execute_result"
    }
   ],
   "source": [
    "y = np.ravel(y)\n",
    "y"
   ]
  },
  {
   "cell_type": "markdown",
   "metadata": {},
   "source": [
    "-------------------------------------------------------------------------------------------------------------------------------"
   ]
  },
  {
   "cell_type": "code",
   "execution_count": 42,
   "metadata": {},
   "outputs": [
    {
     "name": "stderr",
     "output_type": "stream",
     "text": [
      "C:\\Users\\deepusuresh\\Anaconda3\\lib\\site-packages\\sklearn\\linear_model\\logistic.py:433: FutureWarning: Default solver will be changed to 'lbfgs' in 0.22. Specify a solver to silence this warning.\n",
      "  FutureWarning)\n"
     ]
    },
    {
     "data": {
      "text/plain": [
       "0.998639455782313"
      ]
     },
     "execution_count": 42,
     "metadata": {},
     "output_type": "execute_result"
    }
   ],
   "source": [
    "import sklearn\n",
    "from sklearn.linear_model import LogisticRegression\n",
    "\n",
    "model = LogisticRegression()\n",
    "model = model.fit(x, y)\n",
    "\n",
    "# check the accuracy on the training set\n",
    "model.score(x, y)"
   ]
  },
  {
   "cell_type": "code",
   "execution_count": 43,
   "metadata": {},
   "outputs": [
    {
     "data": {
      "text/plain": [
       "0.16122448979591836"
      ]
     },
     "execution_count": 43,
     "metadata": {},
     "output_type": "execute_result"
    }
   ],
   "source": [
    "y.mean()"
   ]
  },
  {
   "cell_type": "code",
   "execution_count": 44,
   "metadata": {},
   "outputs": [
    {
     "name": "stderr",
     "output_type": "stream",
     "text": [
      "C:\\Users\\deepusuresh\\Anaconda3\\lib\\site-packages\\sklearn\\linear_model\\logistic.py:433: FutureWarning: Default solver will be changed to 'lbfgs' in 0.22. Specify a solver to silence this warning.\n",
      "  FutureWarning)\n"
     ]
    },
    {
     "data": {
      "text/plain": [
       "LogisticRegression(C=1.0, class_weight=None, dual=False, fit_intercept=True,\n",
       "          intercept_scaling=1, max_iter=100, multi_class='warn',\n",
       "          n_jobs=None, penalty='l2', random_state=None, solver='warn',\n",
       "          tol=0.0001, verbose=0, warm_start=False)"
      ]
     },
     "execution_count": 44,
     "metadata": {},
     "output_type": "execute_result"
    }
   ],
   "source": [
    "X_train,X_test,y_train,y_test=sklearn.model_selection.train_test_split(x,y, test_size=0.3, random_state=0)\n",
    "model2=LogisticRegression()\n",
    "model2.fit(X_train, y_train)"
   ]
  },
  {
   "cell_type": "code",
   "execution_count": 45,
   "metadata": {},
   "outputs": [
    {
     "data": {
      "text/plain": [
       "array([0, 0, 1, 0, 1, 0, 1, 0, 0, 1, 0, 1, 0, 1, 0, 0, 0, 1, 0, 0, 0, 0,\n",
       "       0, 0, 0, 0, 0, 0, 0, 0, 0, 0, 0, 1, 0, 0, 0, 0, 1, 0, 0, 0, 0, 0,\n",
       "       0, 1, 0, 0, 1, 1, 0, 1, 0, 0, 1, 0, 0, 1, 0, 0, 0, 0, 0, 0, 0, 0,\n",
       "       1, 1, 0, 1, 0, 0, 0, 0, 0, 0, 0, 0, 1, 0, 0, 0, 0, 0, 0, 0, 0, 0,\n",
       "       0, 0, 0, 0, 0, 0, 0, 0, 0, 0, 0, 0, 1, 1, 0, 0, 0, 0, 0, 0, 0, 0,\n",
       "       0, 0, 0, 0, 0, 0, 0, 0, 0, 0, 0, 0, 0, 1, 0, 0, 0, 0, 0, 0, 0, 1,\n",
       "       1, 0, 0, 0, 1, 0, 0, 0, 0, 0, 0, 0, 0, 1, 0, 0, 1, 0, 0, 0, 0, 1,\n",
       "       0, 0, 0, 0, 0, 0, 1, 0, 0, 1, 0, 0, 0, 0, 0, 0, 0, 1, 0, 0, 1, 0,\n",
       "       0, 0, 0, 0, 0, 0, 0, 1, 0, 0, 0, 0, 1, 0, 0, 1, 0, 0, 0, 0, 0, 0,\n",
       "       1, 0, 0, 0, 1, 0, 0, 0, 0, 0, 0, 0, 0, 0, 0, 1, 1, 0, 0, 0, 0, 0,\n",
       "       0, 0, 0, 0, 0, 0, 0, 0, 1, 0, 0, 0, 0, 0, 0, 0, 0, 0, 0, 0, 1, 0,\n",
       "       0, 0, 0, 0, 0, 0, 0, 0, 0, 0, 1, 0, 0, 0, 0, 1, 0, 1, 0, 0, 0, 0,\n",
       "       0, 0, 0, 1, 1, 0, 0, 0, 0, 0, 0, 0, 0, 0, 0, 0, 1, 0, 0, 0, 0, 0,\n",
       "       0, 1, 0, 0, 0, 1, 0, 0, 0, 0, 0, 0, 1, 0, 0, 0, 0, 0, 0, 0, 0, 1,\n",
       "       0, 0, 0, 0, 0, 0, 0, 0, 0, 0, 0, 0, 1, 0, 0, 1, 0, 0, 0, 0, 0, 0,\n",
       "       0, 0, 0, 1, 0, 0, 0, 0, 0, 0, 0, 1, 0, 0, 0, 0, 0, 0, 0, 0, 0, 0,\n",
       "       0, 0, 0, 0, 0, 0, 0, 0, 0, 1, 0, 0, 1, 0, 0, 1, 0, 0, 0, 0, 0, 0,\n",
       "       1, 0, 0, 0, 1, 0, 0, 0, 0, 0, 0, 1, 0, 0, 0, 0, 0, 1, 0, 0, 1, 0,\n",
       "       0, 0, 0, 0, 1, 0, 0, 0, 0, 0, 0, 0, 0, 0, 1, 1, 0, 0, 0, 0, 0, 1,\n",
       "       0, 0, 1, 0, 1, 0, 0, 0, 0, 0, 0, 0, 1, 0, 0, 0, 0, 0, 0, 0, 0, 0,\n",
       "       0], dtype=int64)"
      ]
     },
     "execution_count": 45,
     "metadata": {},
     "output_type": "execute_result"
    }
   ],
   "source": [
    "predicted = model2.predict(X_test)\n",
    "predicted"
   ]
  },
  {
   "cell_type": "code",
   "execution_count": 46,
   "metadata": {},
   "outputs": [
    {
     "data": {
      "text/plain": [
       "array([[0.99228604, 0.00771396],\n",
       "       [0.98884328, 0.01115672],\n",
       "       [0.09036959, 0.90963041],\n",
       "       [0.98804471, 0.01195529],\n",
       "       [0.08331481, 0.91668519],\n",
       "       [0.99082569, 0.00917431],\n",
       "       [0.08204235, 0.91795765],\n",
       "       [0.96337596, 0.03662404],\n",
       "       [0.99514952, 0.00485048],\n",
       "       [0.08111084, 0.91888916],\n",
       "       [0.99506095, 0.00493905],\n",
       "       [0.07372271, 0.92627729],\n",
       "       [0.99390983, 0.00609017],\n",
       "       [0.02390781, 0.97609219],\n",
       "       [0.99052155, 0.00947845],\n",
       "       [0.9933326 , 0.0066674 ],\n",
       "       [0.98681341, 0.01318659],\n",
       "       [0.07702445, 0.92297555],\n",
       "       [0.98974751, 0.01025249],\n",
       "       [0.95422104, 0.04577896],\n",
       "       [0.96907186, 0.03092814],\n",
       "       [0.99081438, 0.00918562],\n",
       "       [0.98974058, 0.01025942],\n",
       "       [0.99533148, 0.00466852],\n",
       "       [0.96571187, 0.03428813],\n",
       "       [0.97094722, 0.02905278],\n",
       "       [0.98221247, 0.01778753],\n",
       "       [0.9949195 , 0.0050805 ],\n",
       "       [0.96078743, 0.03921257],\n",
       "       [0.98556445, 0.01443555],\n",
       "       [0.99482502, 0.00517498],\n",
       "       [0.97169762, 0.02830238],\n",
       "       [0.97896065, 0.02103935],\n",
       "       [0.07593892, 0.92406108],\n",
       "       [0.99691946, 0.00308054],\n",
       "       [0.9917198 , 0.0082802 ],\n",
       "       [0.98306344, 0.01693656],\n",
       "       [0.99051857, 0.00948143],\n",
       "       [0.21695726, 0.78304274],\n",
       "       [0.99213435, 0.00786565],\n",
       "       [0.99314492, 0.00685508],\n",
       "       [0.99287904, 0.00712096],\n",
       "       [0.98979858, 0.01020142],\n",
       "       [0.990029  , 0.009971  ],\n",
       "       [0.97180954, 0.02819046],\n",
       "       [0.05569038, 0.94430962],\n",
       "       [0.92714021, 0.07285979],\n",
       "       [0.98923721, 0.01076279],\n",
       "       [0.05090106, 0.94909894],\n",
       "       [0.04942353, 0.95057647],\n",
       "       [0.99745727, 0.00254273],\n",
       "       [0.04057485, 0.95942515],\n",
       "       [0.99036962, 0.00963038],\n",
       "       [0.98186884, 0.01813116],\n",
       "       [0.08885088, 0.91114912],\n",
       "       [0.99288826, 0.00711174],\n",
       "       [0.98587775, 0.01412225],\n",
       "       [0.08676183, 0.91323817],\n",
       "       [0.98944011, 0.01055989],\n",
       "       [0.98043167, 0.01956833],\n",
       "       [0.99421144, 0.00578856],\n",
       "       [0.95870212, 0.04129788],\n",
       "       [0.99033033, 0.00966967],\n",
       "       [0.97662749, 0.02337251],\n",
       "       [0.98945667, 0.01054333],\n",
       "       [0.99370259, 0.00629741],\n",
       "       [0.11462797, 0.88537203],\n",
       "       [0.06794277, 0.93205723],\n",
       "       [0.98519748, 0.01480252],\n",
       "       [0.05598492, 0.94401508],\n",
       "       [0.98958359, 0.01041641],\n",
       "       [0.98249993, 0.01750007],\n",
       "       [0.98826398, 0.01173602],\n",
       "       [0.98456296, 0.01543704],\n",
       "       [0.98211699, 0.01788301],\n",
       "       [0.97438837, 0.02561163],\n",
       "       [0.98378845, 0.01621155],\n",
       "       [0.99842988, 0.00157012],\n",
       "       [0.12610888, 0.87389112],\n",
       "       [0.97694366, 0.02305634],\n",
       "       [0.99498551, 0.00501449],\n",
       "       [0.97963664, 0.02036336],\n",
       "       [0.98373134, 0.01626866],\n",
       "       [0.99415178, 0.00584822],\n",
       "       [0.99006279, 0.00993721],\n",
       "       [0.98216918, 0.01783082],\n",
       "       [0.99398263, 0.00601737],\n",
       "       [0.9892168 , 0.0107832 ],\n",
       "       [0.98442863, 0.01557137],\n",
       "       [0.96305477, 0.03694523],\n",
       "       [0.95264721, 0.04735279],\n",
       "       [0.97215811, 0.02784189],\n",
       "       [0.96768996, 0.03231004],\n",
       "       [0.98148163, 0.01851837],\n",
       "       [0.99206216, 0.00793784],\n",
       "       [0.99083349, 0.00916651],\n",
       "       [0.97893328, 0.02106672],\n",
       "       [0.95430602, 0.04569398],\n",
       "       [0.98094539, 0.01905461],\n",
       "       [0.99032131, 0.00967869],\n",
       "       [0.02810011, 0.97189989],\n",
       "       [0.02383021, 0.97616979],\n",
       "       [0.99710967, 0.00289033],\n",
       "       [0.9895668 , 0.0104332 ],\n",
       "       [0.98771773, 0.01228227],\n",
       "       [0.99383258, 0.00616742],\n",
       "       [0.99453597, 0.00546403],\n",
       "       [0.98933014, 0.01066986],\n",
       "       [0.99202973, 0.00797027],\n",
       "       [0.9888099 , 0.0111901 ],\n",
       "       [0.97256578, 0.02743422],\n",
       "       [0.99556879, 0.00443121],\n",
       "       [0.99714659, 0.00285341],\n",
       "       [0.98416046, 0.01583954],\n",
       "       [0.97629751, 0.02370249],\n",
       "       [0.9957568 , 0.0042432 ],\n",
       "       [0.98895617, 0.01104383],\n",
       "       [0.99756147, 0.00243853],\n",
       "       [0.99202304, 0.00797696],\n",
       "       [0.99188307, 0.00811693],\n",
       "       [0.98675414, 0.01324586],\n",
       "       [0.99267894, 0.00732106],\n",
       "       [0.9805453 , 0.0194547 ],\n",
       "       [0.0563332 , 0.9436668 ],\n",
       "       [0.99569031, 0.00430969],\n",
       "       [0.993848  , 0.006152  ],\n",
       "       [0.99474346, 0.00525654],\n",
       "       [0.97377711, 0.02622289],\n",
       "       [0.97675967, 0.02324033],\n",
       "       [0.99139659, 0.00860341],\n",
       "       [0.99176227, 0.00823773],\n",
       "       [0.04115335, 0.95884665],\n",
       "       [0.06785517, 0.93214483],\n",
       "       [0.93448516, 0.06551484],\n",
       "       [0.99602071, 0.00397929],\n",
       "       [0.97025503, 0.02974497],\n",
       "       [0.08261701, 0.91738299],\n",
       "       [0.98884486, 0.01115514],\n",
       "       [0.97834909, 0.02165091],\n",
       "       [0.98857228, 0.01142772],\n",
       "       [0.99591408, 0.00408592],\n",
       "       [0.99173253, 0.00826747],\n",
       "       [0.96497749, 0.03502251],\n",
       "       [0.98527522, 0.01472478],\n",
       "       [0.97388361, 0.02611639],\n",
       "       [0.16079134, 0.83920866],\n",
       "       [0.98982797, 0.01017203],\n",
       "       [0.99491495, 0.00508505],\n",
       "       [0.12669387, 0.87330613],\n",
       "       [0.96147947, 0.03852053],\n",
       "       [0.99140802, 0.00859198],\n",
       "       [0.98411106, 0.01588894],\n",
       "       [0.98196543, 0.01803457],\n",
       "       [0.12375136, 0.87624864],\n",
       "       [0.99643442, 0.00356558],\n",
       "       [0.98832378, 0.01167622],\n",
       "       [0.99577163, 0.00422837],\n",
       "       [0.98200424, 0.01799576],\n",
       "       [0.97161832, 0.02838168],\n",
       "       [0.98579513, 0.01420487],\n",
       "       [0.08572527, 0.91427473],\n",
       "       [0.991149  , 0.008851  ],\n",
       "       [0.95622943, 0.04377057],\n",
       "       [0.05365449, 0.94634551],\n",
       "       [0.99796528, 0.00203472],\n",
       "       [0.98782166, 0.01217834],\n",
       "       [0.98888632, 0.01111368],\n",
       "       [0.97455852, 0.02544148],\n",
       "       [0.99470881, 0.00529119],\n",
       "       [0.99768094, 0.00231906],\n",
       "       [0.98908909, 0.01091091],\n",
       "       [0.11062701, 0.88937299],\n",
       "       [0.99253652, 0.00746348],\n",
       "       [0.97804192, 0.02195808],\n",
       "       [0.13711833, 0.86288167],\n",
       "       [0.99030287, 0.00969713],\n",
       "       [0.99231356, 0.00768644],\n",
       "       [0.99305104, 0.00694896],\n",
       "       [0.97525153, 0.02474847],\n",
       "       [0.99683812, 0.00316188],\n",
       "       [0.99225486, 0.00774514],\n",
       "       [0.9959685 , 0.0040315 ],\n",
       "       [0.99634094, 0.00365906],\n",
       "       [0.06643248, 0.93356752],\n",
       "       [0.99201301, 0.00798699],\n",
       "       [0.97858812, 0.02141188],\n",
       "       [0.98310673, 0.01689327],\n",
       "       [0.97723237, 0.02276763],\n",
       "       [0.07222635, 0.92777365],\n",
       "       [0.95699366, 0.04300634],\n",
       "       [0.96261467, 0.03738533],\n",
       "       [0.02602793, 0.97397207],\n",
       "       [0.98800695, 0.01199305],\n",
       "       [0.99324508, 0.00675492],\n",
       "       [0.98674096, 0.01325904],\n",
       "       [0.99379665, 0.00620335],\n",
       "       [0.99380738, 0.00619262],\n",
       "       [0.98877742, 0.01122258],\n",
       "       [0.05502318, 0.94497682],\n",
       "       [0.98694804, 0.01305196],\n",
       "       [0.95961478, 0.04038522],\n",
       "       [0.98601697, 0.01398303],\n",
       "       [0.0229904 , 0.9770096 ],\n",
       "       [0.98400655, 0.01599345],\n",
       "       [0.96223022, 0.03776978],\n",
       "       [0.97933868, 0.02066132],\n",
       "       [0.97432577, 0.02567423],\n",
       "       [0.99845133, 0.00154867],\n",
       "       [0.97363006, 0.02636994],\n",
       "       [0.99095273, 0.00904727],\n",
       "       [0.96962866, 0.03037134],\n",
       "       [0.98804113, 0.01195887],\n",
       "       [0.99111395, 0.00888605],\n",
       "       [0.05172405, 0.94827595],\n",
       "       [0.09701955, 0.90298045],\n",
       "       [0.99270769, 0.00729231],\n",
       "       [0.9859222 , 0.0140778 ],\n",
       "       [0.99612842, 0.00387158],\n",
       "       [0.9959321 , 0.0040679 ],\n",
       "       [0.97143335, 0.02856665],\n",
       "       [0.96821271, 0.03178729],\n",
       "       [0.96773191, 0.03226809],\n",
       "       [0.94787147, 0.05212853],\n",
       "       [0.99392864, 0.00607136],\n",
       "       [0.95459741, 0.04540259],\n",
       "       [0.99264139, 0.00735861],\n",
       "       [0.99411983, 0.00588017],\n",
       "       [0.96619799, 0.03380201],\n",
       "       [0.02536115, 0.97463885],\n",
       "       [0.98635145, 0.01364855],\n",
       "       [0.99583866, 0.00416134],\n",
       "       [0.99383445, 0.00616555],\n",
       "       [0.97434806, 0.02565194],\n",
       "       [0.9969667 , 0.0030333 ],\n",
       "       [0.98432903, 0.01567097],\n",
       "       [0.99566514, 0.00433486],\n",
       "       [0.96667123, 0.03332877],\n",
       "       [0.98999764, 0.01000236],\n",
       "       [0.9784836 , 0.0215164 ],\n",
       "       [0.99754486, 0.00245514],\n",
       "       [0.07633585, 0.92366415],\n",
       "       [0.97202475, 0.02797525],\n",
       "       [0.99638004, 0.00361996],\n",
       "       [0.98745665, 0.01254335],\n",
       "       [0.98999954, 0.01000046],\n",
       "       [0.99656274, 0.00343726],\n",
       "       [0.98303338, 0.01696662],\n",
       "       [0.98705833, 0.01294167],\n",
       "       [0.98801518, 0.01198482],\n",
       "       [0.99106158, 0.00893842],\n",
       "       [0.9756166 , 0.0243834 ],\n",
       "       [0.98996327, 0.01003673],\n",
       "       [0.0167739 , 0.9832261 ],\n",
       "       [0.98715577, 0.01284423],\n",
       "       [0.97612246, 0.02387754],\n",
       "       [0.98856487, 0.01143513],\n",
       "       [0.99793428, 0.00206572],\n",
       "       [0.04468244, 0.95531756],\n",
       "       [0.95081415, 0.04918585],\n",
       "       [0.03638428, 0.96361572],\n",
       "       [0.98837362, 0.01162638],\n",
       "       [0.98174856, 0.01825144],\n",
       "       [0.98943127, 0.01056873],\n",
       "       [0.99189247, 0.00810753],\n",
       "       [0.97789877, 0.02210123],\n",
       "       [0.99167486, 0.00832514],\n",
       "       [0.99411184, 0.00588816],\n",
       "       [0.05052847, 0.94947153],\n",
       "       [0.06750233, 0.93249767],\n",
       "       [0.98952232, 0.01047768],\n",
       "       [0.9880326 , 0.0119674 ],\n",
       "       [0.99306733, 0.00693267],\n",
       "       [0.99171107, 0.00828893],\n",
       "       [0.99259864, 0.00740136],\n",
       "       [0.98077703, 0.01922297],\n",
       "       [0.99057098, 0.00942902],\n",
       "       [0.98084641, 0.01915359],\n",
       "       [0.99584296, 0.00415704],\n",
       "       [0.98909949, 0.01090051],\n",
       "       [0.98993663, 0.01006337],\n",
       "       [0.03083741, 0.96916259],\n",
       "       [0.99342709, 0.00657291],\n",
       "       [0.9695081 , 0.0304919 ],\n",
       "       [0.99242771, 0.00757229],\n",
       "       [0.99572497, 0.00427503],\n",
       "       [0.9879839 , 0.0120161 ],\n",
       "       [0.99203353, 0.00796647],\n",
       "       [0.07783328, 0.92216672],\n",
       "       [0.98510221, 0.01489779],\n",
       "       [0.99154994, 0.00845006],\n",
       "       [0.98957398, 0.01042602],\n",
       "       [0.05434654, 0.94565346],\n",
       "       [0.99035871, 0.00964129],\n",
       "       [0.98239629, 0.01760371],\n",
       "       [0.99778998, 0.00221002],\n",
       "       [0.98864616, 0.01135384],\n",
       "       [0.97509639, 0.02490361],\n",
       "       [0.98434734, 0.01565266],\n",
       "       [0.06801307, 0.93198693],\n",
       "       [0.99599717, 0.00400283],\n",
       "       [0.9922439 , 0.0077561 ],\n",
       "       [0.9920843 , 0.0079157 ],\n",
       "       [0.97878639, 0.02121361],\n",
       "       [0.9776953 , 0.0223047 ],\n",
       "       [0.97239632, 0.02760368],\n",
       "       [0.98871486, 0.01128514],\n",
       "       [0.9882141 , 0.0117859 ],\n",
       "       [0.02583348, 0.97416652],\n",
       "       [0.99532663, 0.00467337],\n",
       "       [0.98894408, 0.01105592],\n",
       "       [0.99518413, 0.00481587],\n",
       "       [0.99259585, 0.00740415],\n",
       "       [0.97582197, 0.02417803],\n",
       "       [0.97682767, 0.02317233],\n",
       "       [0.97065975, 0.02934025],\n",
       "       [0.95511439, 0.04488561],\n",
       "       [0.97667281, 0.02332719],\n",
       "       [0.99149591, 0.00850409],\n",
       "       [0.97107434, 0.02892566],\n",
       "       [0.99344869, 0.00655131],\n",
       "       [0.05898515, 0.94101485],\n",
       "       [0.9940622 , 0.0059378 ],\n",
       "       [0.99223217, 0.00776783],\n",
       "       [0.04652943, 0.95347057],\n",
       "       [0.98049695, 0.01950305],\n",
       "       [0.9834169 , 0.0165831 ],\n",
       "       [0.98427224, 0.01572776],\n",
       "       [0.99053017, 0.00946983],\n",
       "       [0.99478198, 0.00521802],\n",
       "       [0.99471584, 0.00528416],\n",
       "       [0.99737305, 0.00262695],\n",
       "       [0.99014766, 0.00985234],\n",
       "       [0.99520871, 0.00479129],\n",
       "       [0.10768836, 0.89231164],\n",
       "       [0.98005985, 0.01994015],\n",
       "       [0.9913805 , 0.0086195 ],\n",
       "       [0.99562013, 0.00437987],\n",
       "       [0.99208378, 0.00791622],\n",
       "       [0.98905859, 0.01094141],\n",
       "       [0.99443729, 0.00556271],\n",
       "       [0.98398318, 0.01601682],\n",
       "       [0.03825819, 0.96174181],\n",
       "       [0.97550133, 0.02449867],\n",
       "       [0.96972405, 0.03027595],\n",
       "       [0.98669762, 0.01330238],\n",
       "       [0.98120034, 0.01879966],\n",
       "       [0.97854607, 0.02145393],\n",
       "       [0.97967236, 0.02032764],\n",
       "       [0.987811  , 0.012189  ],\n",
       "       [0.98961043, 0.01038957],\n",
       "       [0.98619062, 0.01380938],\n",
       "       [0.96967615, 0.03032385],\n",
       "       [0.98466028, 0.01533972],\n",
       "       [0.98882452, 0.01117548],\n",
       "       [0.98649016, 0.01350984],\n",
       "       [0.99413055, 0.00586945],\n",
       "       [0.9859766 , 0.0140234 ],\n",
       "       [0.98611628, 0.01388372],\n",
       "       [0.99072083, 0.00927917],\n",
       "       [0.98817771, 0.01182229],\n",
       "       [0.99103387, 0.00896613],\n",
       "       [0.1345368 , 0.8654632 ],\n",
       "       [0.99329712, 0.00670288],\n",
       "       [0.99472132, 0.00527868],\n",
       "       [0.05578158, 0.94421842],\n",
       "       [0.98460551, 0.01539449],\n",
       "       [0.99731141, 0.00268859],\n",
       "       [0.07437943, 0.92562057],\n",
       "       [0.99286061, 0.00713939],\n",
       "       [0.99173837, 0.00826163],\n",
       "       [0.99597177, 0.00402823],\n",
       "       [0.97940478, 0.02059522],\n",
       "       [0.99163896, 0.00836104],\n",
       "       [0.99029969, 0.00970031],\n",
       "       [0.08592214, 0.91407786],\n",
       "       [0.9844955 , 0.0155045 ],\n",
       "       [0.9939597 , 0.0060403 ],\n",
       "       [0.99524324, 0.00475676],\n",
       "       [0.13713239, 0.86286761],\n",
       "       [0.99333197, 0.00666803],\n",
       "       [0.98815775, 0.01184225],\n",
       "       [0.99124037, 0.00875963],\n",
       "       [0.97655552, 0.02344448],\n",
       "       [0.99699536, 0.00300464],\n",
       "       [0.99766039, 0.00233961],\n",
       "       [0.03130734, 0.96869266],\n",
       "       [0.99539799, 0.00460201],\n",
       "       [0.99072755, 0.00927245],\n",
       "       [0.99251721, 0.00748279],\n",
       "       [0.9919572 , 0.0080428 ],\n",
       "       [0.99437703, 0.00562297],\n",
       "       [0.05126412, 0.94873588],\n",
       "       [0.97701701, 0.02298299],\n",
       "       [0.97445907, 0.02554093],\n",
       "       [0.02245398, 0.97754602],\n",
       "       [0.99304608, 0.00695392],\n",
       "       [0.98913215, 0.01086785],\n",
       "       [0.98654796, 0.01345204],\n",
       "       [0.99020354, 0.00979646],\n",
       "       [0.99388954, 0.00611046],\n",
       "       [0.05258833, 0.94741167],\n",
       "       [0.98268736, 0.01731264],\n",
       "       [0.98839244, 0.01160756],\n",
       "       [0.98975239, 0.01024761],\n",
       "       [0.96679548, 0.03320452],\n",
       "       [0.99490641, 0.00509359],\n",
       "       [0.97753241, 0.02246759],\n",
       "       [0.98638476, 0.01361524],\n",
       "       [0.9912973 , 0.0087027 ],\n",
       "       [0.99006588, 0.00993412],\n",
       "       [0.04833335, 0.95166665],\n",
       "       [0.23621822, 0.76378178],\n",
       "       [0.98721346, 0.01278654],\n",
       "       [0.96868902, 0.03131098],\n",
       "       [0.96661203, 0.03338797],\n",
       "       [0.98848019, 0.01151981],\n",
       "       [0.99508314, 0.00491686],\n",
       "       [0.20287897, 0.79712103],\n",
       "       [0.99036863, 0.00963137],\n",
       "       [0.98944647, 0.01055353],\n",
       "       [0.1172629 , 0.8827371 ],\n",
       "       [0.97854   , 0.02146   ],\n",
       "       [0.02837329, 0.97162671],\n",
       "       [0.99595522, 0.00404478],\n",
       "       [0.99198815, 0.00801185],\n",
       "       [0.98791759, 0.01208241],\n",
       "       [0.97952422, 0.02047578],\n",
       "       [0.98719925, 0.01280075],\n",
       "       [0.98569341, 0.01430659],\n",
       "       [0.99317882, 0.00682118],\n",
       "       [0.04674943, 0.95325057],\n",
       "       [0.98606228, 0.01393772],\n",
       "       [0.98711306, 0.01288694],\n",
       "       [0.98516407, 0.01483593],\n",
       "       [0.98960727, 0.01039273],\n",
       "       [0.9943452 , 0.0056548 ],\n",
       "       [0.99248111, 0.00751889],\n",
       "       [0.9794057 , 0.0205943 ],\n",
       "       [0.98774256, 0.01225744],\n",
       "       [0.99602897, 0.00397103],\n",
       "       [0.99509768, 0.00490232]])"
      ]
     },
     "execution_count": 46,
     "metadata": {},
     "output_type": "execute_result"
    }
   ],
   "source": [
    "probs = model2.predict_proba(X_test)\n",
    "probs"
   ]
  },
  {
   "cell_type": "code",
   "execution_count": 47,
   "metadata": {},
   "outputs": [
    {
     "data": {
      "text/plain": [
       "1.0"
      ]
     },
     "execution_count": 47,
     "metadata": {},
     "output_type": "execute_result"
    }
   ],
   "source": [
    "from sklearn import metrics\n",
    "\n",
    "metrics.accuracy_score(y_test, predicted)"
   ]
  },
  {
   "cell_type": "code",
   "execution_count": 48,
   "metadata": {},
   "outputs": [
    {
     "data": {
      "text/plain": [
       "1.0"
      ]
     },
     "execution_count": 48,
     "metadata": {},
     "output_type": "execute_result"
    }
   ],
   "source": [
    "metrics.roc_auc_score(y_test, probs[:, 1])"
   ]
  },
  {
   "cell_type": "code",
   "execution_count": 49,
   "metadata": {},
   "outputs": [
    {
     "data": {
      "text/plain": [
       "array([[371,   0],\n",
       "       [  0,  70]], dtype=int64)"
      ]
     },
     "execution_count": 49,
     "metadata": {},
     "output_type": "execute_result"
    }
   ],
   "source": [
    "metrics.confusion_matrix(y_test, predicted)"
   ]
  },
  {
   "cell_type": "code",
   "execution_count": 50,
   "metadata": {},
   "outputs": [
    {
     "data": {
      "text/plain": [
       "'              precision    recall  f1-score   support\\n\\n           0       1.00      1.00      1.00       371\\n           1       1.00      1.00      1.00        70\\n\\n   micro avg       1.00      1.00      1.00       441\\n   macro avg       1.00      1.00      1.00       441\\nweighted avg       1.00      1.00      1.00       441\\n'"
      ]
     },
     "execution_count": 50,
     "metadata": {},
     "output_type": "execute_result"
    }
   ],
   "source": [
    "metrics.classification_report(y_test, predicted)"
   ]
  },
  {
   "cell_type": "code",
   "execution_count": 51,
   "metadata": {},
   "outputs": [
    {
     "data": {
      "text/html": [
       "<div>\n",
       "<style scoped>\n",
       "    .dataframe tbody tr th:only-of-type {\n",
       "        vertical-align: middle;\n",
       "    }\n",
       "\n",
       "    .dataframe tbody tr th {\n",
       "        vertical-align: top;\n",
       "    }\n",
       "\n",
       "    .dataframe thead th {\n",
       "        text-align: right;\n",
       "    }\n",
       "</style>\n",
       "<table border=\"1\" class=\"dataframe\">\n",
       "  <thead>\n",
       "    <tr style=\"text-align: right;\">\n",
       "      <th></th>\n",
       "      <th>Age</th>\n",
       "      <th>Attrition</th>\n",
       "      <th>Department</th>\n",
       "      <th>DistanceFromHome</th>\n",
       "      <th>Education</th>\n",
       "      <th>EducationField</th>\n",
       "      <th>EnvironmentSatisfaction</th>\n",
       "      <th>JobSatisfaction</th>\n",
       "      <th>MaritalStatus</th>\n",
       "      <th>MonthlyIncome</th>\n",
       "      <th>NumCompaniesWorked</th>\n",
       "      <th>WorkLifeBalance</th>\n",
       "      <th>YearsAtCompany</th>\n",
       "    </tr>\n",
       "  </thead>\n",
       "  <tbody>\n",
       "    <tr>\n",
       "      <th>338</th>\n",
       "      <td>30</td>\n",
       "      <td>0</td>\n",
       "      <td>2</td>\n",
       "      <td>5</td>\n",
       "      <td>3</td>\n",
       "      <td>3</td>\n",
       "      <td>4</td>\n",
       "      <td>3</td>\n",
       "      <td>3</td>\n",
       "      <td>6118</td>\n",
       "      <td>1</td>\n",
       "      <td>3</td>\n",
       "      <td>10</td>\n",
       "    </tr>\n",
       "    <tr>\n",
       "      <th>363</th>\n",
       "      <td>33</td>\n",
       "      <td>1</td>\n",
       "      <td>2</td>\n",
       "      <td>5</td>\n",
       "      <td>3</td>\n",
       "      <td>3</td>\n",
       "      <td>4</td>\n",
       "      <td>3</td>\n",
       "      <td>2</td>\n",
       "      <td>2851</td>\n",
       "      <td>1</td>\n",
       "      <td>3</td>\n",
       "      <td>1</td>\n",
       "    </tr>\n",
       "    <tr>\n",
       "      <th>759</th>\n",
       "      <td>45</td>\n",
       "      <td>0</td>\n",
       "      <td>3</td>\n",
       "      <td>24</td>\n",
       "      <td>4</td>\n",
       "      <td>2</td>\n",
       "      <td>2</td>\n",
       "      <td>2</td>\n",
       "      <td>2</td>\n",
       "      <td>2177</td>\n",
       "      <td>1</td>\n",
       "      <td>3</td>\n",
       "      <td>6</td>\n",
       "    </tr>\n",
       "    <tr>\n",
       "      <th>793</th>\n",
       "      <td>28</td>\n",
       "      <td>0</td>\n",
       "      <td>1</td>\n",
       "      <td>15</td>\n",
       "      <td>2</td>\n",
       "      <td>1</td>\n",
       "      <td>1</td>\n",
       "      <td>3</td>\n",
       "      <td>3</td>\n",
       "      <td>2207</td>\n",
       "      <td>1</td>\n",
       "      <td>2</td>\n",
       "      <td>4</td>\n",
       "    </tr>\n",
       "    <tr>\n",
       "      <th>581</th>\n",
       "      <td>30</td>\n",
       "      <td>0</td>\n",
       "      <td>1</td>\n",
       "      <td>1</td>\n",
       "      <td>3</td>\n",
       "      <td>1</td>\n",
       "      <td>4</td>\n",
       "      <td>3</td>\n",
       "      <td>1</td>\n",
       "      <td>3833</td>\n",
       "      <td>3</td>\n",
       "      <td>3</td>\n",
       "      <td>2</td>\n",
       "    </tr>\n",
       "    <tr>\n",
       "      <th>320</th>\n",
       "      <td>27</td>\n",
       "      <td>0</td>\n",
       "      <td>2</td>\n",
       "      <td>2</td>\n",
       "      <td>3</td>\n",
       "      <td>1</td>\n",
       "      <td>4</td>\n",
       "      <td>3</td>\n",
       "      <td>2</td>\n",
       "      <td>4478</td>\n",
       "      <td>1</td>\n",
       "      <td>3</td>\n",
       "      <td>5</td>\n",
       "    </tr>\n",
       "    <tr>\n",
       "      <th>452</th>\n",
       "      <td>45</td>\n",
       "      <td>0</td>\n",
       "      <td>2</td>\n",
       "      <td>2</td>\n",
       "      <td>3</td>\n",
       "      <td>4</td>\n",
       "      <td>4</td>\n",
       "      <td>2</td>\n",
       "      <td>1</td>\n",
       "      <td>4805</td>\n",
       "      <td>0</td>\n",
       "      <td>4</td>\n",
       "      <td>8</td>\n",
       "    </tr>\n",
       "    <tr>\n",
       "      <th>195</th>\n",
       "      <td>37</td>\n",
       "      <td>0</td>\n",
       "      <td>1</td>\n",
       "      <td>21</td>\n",
       "      <td>3</td>\n",
       "      <td>1</td>\n",
       "      <td>2</td>\n",
       "      <td>1</td>\n",
       "      <td>1</td>\n",
       "      <td>3564</td>\n",
       "      <td>1</td>\n",
       "      <td>2</td>\n",
       "      <td>8</td>\n",
       "    </tr>\n",
       "    <tr>\n",
       "      <th>776</th>\n",
       "      <td>20</td>\n",
       "      <td>1</td>\n",
       "      <td>2</td>\n",
       "      <td>9</td>\n",
       "      <td>3</td>\n",
       "      <td>3</td>\n",
       "      <td>4</td>\n",
       "      <td>4</td>\n",
       "      <td>2</td>\n",
       "      <td>2323</td>\n",
       "      <td>1</td>\n",
       "      <td>3</td>\n",
       "      <td>2</td>\n",
       "    </tr>\n",
       "    <tr>\n",
       "      <th>1295</th>\n",
       "      <td>41</td>\n",
       "      <td>0</td>\n",
       "      <td>2</td>\n",
       "      <td>4</td>\n",
       "      <td>1</td>\n",
       "      <td>3</td>\n",
       "      <td>3</td>\n",
       "      <td>3</td>\n",
       "      <td>3</td>\n",
       "      <td>10447</td>\n",
       "      <td>0</td>\n",
       "      <td>4</td>\n",
       "      <td>22</td>\n",
       "    </tr>\n",
       "    <tr>\n",
       "      <th>70</th>\n",
       "      <td>59</td>\n",
       "      <td>0</td>\n",
       "      <td>2</td>\n",
       "      <td>1</td>\n",
       "      <td>1</td>\n",
       "      <td>1</td>\n",
       "      <td>1</td>\n",
       "      <td>3</td>\n",
       "      <td>2</td>\n",
       "      <td>5473</td>\n",
       "      <td>7</td>\n",
       "      <td>2</td>\n",
       "      <td>4</td>\n",
       "    </tr>\n",
       "    <tr>\n",
       "      <th>1135</th>\n",
       "      <td>46</td>\n",
       "      <td>0</td>\n",
       "      <td>2</td>\n",
       "      <td>1</td>\n",
       "      <td>4</td>\n",
       "      <td>1</td>\n",
       "      <td>4</td>\n",
       "      <td>1</td>\n",
       "      <td>2</td>\n",
       "      <td>17567</td>\n",
       "      <td>1</td>\n",
       "      <td>1</td>\n",
       "      <td>26</td>\n",
       "    </tr>\n",
       "    <tr>\n",
       "      <th>1011</th>\n",
       "      <td>36</td>\n",
       "      <td>0</td>\n",
       "      <td>2</td>\n",
       "      <td>3</td>\n",
       "      <td>4</td>\n",
       "      <td>3</td>\n",
       "      <td>1</td>\n",
       "      <td>2</td>\n",
       "      <td>2</td>\n",
       "      <td>9278</td>\n",
       "      <td>3</td>\n",
       "      <td>3</td>\n",
       "      <td>5</td>\n",
       "    </tr>\n",
       "    <tr>\n",
       "      <th>10</th>\n",
       "      <td>35</td>\n",
       "      <td>0</td>\n",
       "      <td>1</td>\n",
       "      <td>16</td>\n",
       "      <td>3</td>\n",
       "      <td>2</td>\n",
       "      <td>1</td>\n",
       "      <td>2</td>\n",
       "      <td>1</td>\n",
       "      <td>2426</td>\n",
       "      <td>0</td>\n",
       "      <td>3</td>\n",
       "      <td>5</td>\n",
       "    </tr>\n",
       "    <tr>\n",
       "      <th>1265</th>\n",
       "      <td>33</td>\n",
       "      <td>0</td>\n",
       "      <td>1</td>\n",
       "      <td>4</td>\n",
       "      <td>3</td>\n",
       "      <td>5</td>\n",
       "      <td>4</td>\n",
       "      <td>2</td>\n",
       "      <td>3</td>\n",
       "      <td>3055</td>\n",
       "      <td>5</td>\n",
       "      <td>2</td>\n",
       "      <td>9</td>\n",
       "    </tr>\n",
       "  </tbody>\n",
       "</table>\n",
       "</div>"
      ],
      "text/plain": [
       "      Age  Attrition  Department  DistanceFromHome  Education  EducationField  \\\n",
       "338    30          0           2                 5          3               3   \n",
       "363    33          1           2                 5          3               3   \n",
       "759    45          0           3                24          4               2   \n",
       "793    28          0           1                15          2               1   \n",
       "581    30          0           1                 1          3               1   \n",
       "320    27          0           2                 2          3               1   \n",
       "452    45          0           2                 2          3               4   \n",
       "195    37          0           1                21          3               1   \n",
       "776    20          1           2                 9          3               3   \n",
       "1295   41          0           2                 4          1               3   \n",
       "70     59          0           2                 1          1               1   \n",
       "1135   46          0           2                 1          4               1   \n",
       "1011   36          0           2                 3          4               3   \n",
       "10     35          0           1                16          3               2   \n",
       "1265   33          0           1                 4          3               5   \n",
       "\n",
       "      EnvironmentSatisfaction  JobSatisfaction  MaritalStatus  MonthlyIncome  \\\n",
       "338                         4                3              3           6118   \n",
       "363                         4                3              2           2851   \n",
       "759                         2                2              2           2177   \n",
       "793                         1                3              3           2207   \n",
       "581                         4                3              1           3833   \n",
       "320                         4                3              2           4478   \n",
       "452                         4                2              1           4805   \n",
       "195                         2                1              1           3564   \n",
       "776                         4                4              2           2323   \n",
       "1295                        3                3              3          10447   \n",
       "70                          1                3              2           5473   \n",
       "1135                        4                1              2          17567   \n",
       "1011                        1                2              2           9278   \n",
       "10                          1                2              1           2426   \n",
       "1265                        4                2              3           3055   \n",
       "\n",
       "      NumCompaniesWorked  WorkLifeBalance  YearsAtCompany  \n",
       "338                    1                3              10  \n",
       "363                    1                3               1  \n",
       "759                    1                3               6  \n",
       "793                    1                2               4  \n",
       "581                    3                3               2  \n",
       "320                    1                3               5  \n",
       "452                    0                4               8  \n",
       "195                    1                2               8  \n",
       "776                    1                3               2  \n",
       "1295                   0                4              22  \n",
       "70                     7                2               4  \n",
       "1135                   1                1              26  \n",
       "1011                   3                3               5  \n",
       "10                     0                3               5  \n",
       "1265                   5                2               9  "
      ]
     },
     "execution_count": 51,
     "metadata": {},
     "output_type": "execute_result"
    }
   ],
   "source": [
    "X_train.head(15)"
   ]
  },
  {
   "cell_type": "code",
   "execution_count": 52,
   "metadata": {},
   "outputs": [
    {
     "data": {
      "text/plain": [
       "array([[0., 1.]])"
      ]
     },
     "execution_count": 52,
     "metadata": {},
     "output_type": "execute_result"
    }
   ],
   "source": [
    "# add random values to KK according to the parameters mentioned above to check the proabily of attrition of the employee\n",
    "\n",
    "kk=[[1.0, 23.0, 1.0, 500.0, 3.0, 24.0, 1.0, 12.0, 15.0, 24.0, 36.0, 75.0, 125.0]]\n",
    "model.predict_proba(kk)"
   ]
  }
 ],
 "metadata": {
  "kernelspec": {
   "display_name": "Python 3",
   "language": "python",
   "name": "python3"
  },
  "language_info": {
   "codemirror_mode": {
    "name": "ipython",
    "version": 3
   },
   "file_extension": ".py",
   "mimetype": "text/x-python",
   "name": "python",
   "nbconvert_exporter": "python",
   "pygments_lexer": "ipython3",
   "version": "3.7.3"
  }
 },
 "nbformat": 4,
 "nbformat_minor": 2
}
